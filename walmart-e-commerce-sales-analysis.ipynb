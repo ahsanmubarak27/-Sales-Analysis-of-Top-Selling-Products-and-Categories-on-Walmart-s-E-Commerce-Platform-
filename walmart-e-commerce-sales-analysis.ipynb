{
 "cells": [
  {
   "cell_type": "markdown",
   "id": "5552f3c2",
   "metadata": {
    "papermill": {
     "duration": 0.009124,
     "end_time": "2025-08-01T04:37:27.954611",
     "exception": false,
     "start_time": "2025-08-01T04:37:27.945487",
     "status": "completed"
    },
    "tags": []
   },
   "source": [
    "**About Dataset**\n",
    "\n",
    "Dataset: Walmart E-commerce\n",
    "\n",
    "**Source:** [Kaggle - Walmart E-commerce](https://www.kaggle.com/datasets/devarajv88/walmart-sales-dataset)\n",
    "\n",
    "**Overview**\n",
    "\n",
    "Walmart is a globally recognized retail giant, renowned for offering a wide range of products at competitive prices, and providing a convenient shopping experience for millions of customers worldwide.\n",
    "\n",
    "In this project, I aim to analyze the top-selling products and product categories on Walmart’s e-commerce platform. This project is part of my data analyst portfolio and focuses on uncovering sales trends and customer preferences.\n",
    "\n",
    "**Key Features:**\n",
    "\n",
    "- `Product_ID` \n",
    "- `User_ID`\n",
    "- `Purchase`\n",
    "- `Product_Category`\n"
   ]
  },
  {
   "cell_type": "code",
   "execution_count": 1,
   "id": "a340f9c3",
   "metadata": {
    "execution": {
     "iopub.execute_input": "2025-08-01T04:37:27.971189Z",
     "iopub.status.busy": "2025-08-01T04:37:27.970774Z",
     "iopub.status.idle": "2025-08-01T04:37:32.458998Z",
     "shell.execute_reply": "2025-08-01T04:37:32.457664Z"
    },
    "papermill": {
     "duration": 4.49887,
     "end_time": "2025-08-01T04:37:32.461071",
     "exception": false,
     "start_time": "2025-08-01T04:37:27.962201",
     "status": "completed"
    },
    "tags": []
   },
   "outputs": [],
   "source": [
    "import pandas as pd\n",
    "import numpy as np\n",
    "import matplotlib.pyplot as plt\n",
    "import seaborn as sns"
   ]
  },
  {
   "cell_type": "code",
   "execution_count": 2,
   "id": "1f9f21c3",
   "metadata": {
    "execution": {
     "iopub.execute_input": "2025-08-01T04:37:32.478190Z",
     "iopub.status.busy": "2025-08-01T04:37:32.477726Z",
     "iopub.status.idle": "2025-08-01T04:37:33.501095Z",
     "shell.execute_reply": "2025-08-01T04:37:33.499879Z"
    },
    "executionInfo": {
     "elapsed": 716,
     "status": "ok",
     "timestamp": 1753659086077,
     "user": {
      "displayName": "Ahsan Mubarak",
      "userId": "13952536471194166156"
     },
     "user_tz": -420
    },
    "id": "keUrEUoXkAcu",
    "outputId": "c3cc0bba-c2a9-43ee-b019-d28a978312c2",
    "papermill": {
     "duration": 1.034318,
     "end_time": "2025-08-01T04:37:33.503105",
     "exception": false,
     "start_time": "2025-08-01T04:37:32.468787",
     "status": "completed"
    },
    "tags": []
   },
   "outputs": [
    {
     "data": {
      "text/html": [
       "<div>\n",
       "<style scoped>\n",
       "    .dataframe tbody tr th:only-of-type {\n",
       "        vertical-align: middle;\n",
       "    }\n",
       "\n",
       "    .dataframe tbody tr th {\n",
       "        vertical-align: top;\n",
       "    }\n",
       "\n",
       "    .dataframe thead th {\n",
       "        text-align: right;\n",
       "    }\n",
       "</style>\n",
       "<table border=\"1\" class=\"dataframe\">\n",
       "  <thead>\n",
       "    <tr style=\"text-align: right;\">\n",
       "      <th></th>\n",
       "      <th>User_ID</th>\n",
       "      <th>Product_ID</th>\n",
       "      <th>Gender</th>\n",
       "      <th>Age</th>\n",
       "      <th>Occupation</th>\n",
       "      <th>City_Category</th>\n",
       "      <th>Stay_In_Current_City_Years</th>\n",
       "      <th>Marital_Status</th>\n",
       "      <th>Product_Category</th>\n",
       "      <th>Purchase</th>\n",
       "    </tr>\n",
       "  </thead>\n",
       "  <tbody>\n",
       "    <tr>\n",
       "      <th>0</th>\n",
       "      <td>1000001</td>\n",
       "      <td>P00069042</td>\n",
       "      <td>F</td>\n",
       "      <td>0-17</td>\n",
       "      <td>10</td>\n",
       "      <td>A</td>\n",
       "      <td>2</td>\n",
       "      <td>0</td>\n",
       "      <td>3</td>\n",
       "      <td>8370</td>\n",
       "    </tr>\n",
       "    <tr>\n",
       "      <th>1</th>\n",
       "      <td>1000001</td>\n",
       "      <td>P00248942</td>\n",
       "      <td>F</td>\n",
       "      <td>0-17</td>\n",
       "      <td>10</td>\n",
       "      <td>A</td>\n",
       "      <td>2</td>\n",
       "      <td>0</td>\n",
       "      <td>1</td>\n",
       "      <td>15200</td>\n",
       "    </tr>\n",
       "    <tr>\n",
       "      <th>2</th>\n",
       "      <td>1000001</td>\n",
       "      <td>P00087842</td>\n",
       "      <td>F</td>\n",
       "      <td>0-17</td>\n",
       "      <td>10</td>\n",
       "      <td>A</td>\n",
       "      <td>2</td>\n",
       "      <td>0</td>\n",
       "      <td>12</td>\n",
       "      <td>1422</td>\n",
       "    </tr>\n",
       "    <tr>\n",
       "      <th>3</th>\n",
       "      <td>1000001</td>\n",
       "      <td>P00085442</td>\n",
       "      <td>F</td>\n",
       "      <td>0-17</td>\n",
       "      <td>10</td>\n",
       "      <td>A</td>\n",
       "      <td>2</td>\n",
       "      <td>0</td>\n",
       "      <td>12</td>\n",
       "      <td>1057</td>\n",
       "    </tr>\n",
       "    <tr>\n",
       "      <th>4</th>\n",
       "      <td>1000002</td>\n",
       "      <td>P00285442</td>\n",
       "      <td>M</td>\n",
       "      <td>55+</td>\n",
       "      <td>16</td>\n",
       "      <td>C</td>\n",
       "      <td>4+</td>\n",
       "      <td>0</td>\n",
       "      <td>8</td>\n",
       "      <td>7969</td>\n",
       "    </tr>\n",
       "    <tr>\n",
       "      <th>...</th>\n",
       "      <td>...</td>\n",
       "      <td>...</td>\n",
       "      <td>...</td>\n",
       "      <td>...</td>\n",
       "      <td>...</td>\n",
       "      <td>...</td>\n",
       "      <td>...</td>\n",
       "      <td>...</td>\n",
       "      <td>...</td>\n",
       "      <td>...</td>\n",
       "    </tr>\n",
       "    <tr>\n",
       "      <th>550063</th>\n",
       "      <td>1006033</td>\n",
       "      <td>P00372445</td>\n",
       "      <td>M</td>\n",
       "      <td>51-55</td>\n",
       "      <td>13</td>\n",
       "      <td>B</td>\n",
       "      <td>1</td>\n",
       "      <td>1</td>\n",
       "      <td>20</td>\n",
       "      <td>368</td>\n",
       "    </tr>\n",
       "    <tr>\n",
       "      <th>550064</th>\n",
       "      <td>1006035</td>\n",
       "      <td>P00375436</td>\n",
       "      <td>F</td>\n",
       "      <td>26-35</td>\n",
       "      <td>1</td>\n",
       "      <td>C</td>\n",
       "      <td>3</td>\n",
       "      <td>0</td>\n",
       "      <td>20</td>\n",
       "      <td>371</td>\n",
       "    </tr>\n",
       "    <tr>\n",
       "      <th>550065</th>\n",
       "      <td>1006036</td>\n",
       "      <td>P00375436</td>\n",
       "      <td>F</td>\n",
       "      <td>26-35</td>\n",
       "      <td>15</td>\n",
       "      <td>B</td>\n",
       "      <td>4+</td>\n",
       "      <td>1</td>\n",
       "      <td>20</td>\n",
       "      <td>137</td>\n",
       "    </tr>\n",
       "    <tr>\n",
       "      <th>550066</th>\n",
       "      <td>1006038</td>\n",
       "      <td>P00375436</td>\n",
       "      <td>F</td>\n",
       "      <td>55+</td>\n",
       "      <td>1</td>\n",
       "      <td>C</td>\n",
       "      <td>2</td>\n",
       "      <td>0</td>\n",
       "      <td>20</td>\n",
       "      <td>365</td>\n",
       "    </tr>\n",
       "    <tr>\n",
       "      <th>550067</th>\n",
       "      <td>1006039</td>\n",
       "      <td>P00371644</td>\n",
       "      <td>F</td>\n",
       "      <td>46-50</td>\n",
       "      <td>0</td>\n",
       "      <td>B</td>\n",
       "      <td>4+</td>\n",
       "      <td>1</td>\n",
       "      <td>20</td>\n",
       "      <td>490</td>\n",
       "    </tr>\n",
       "  </tbody>\n",
       "</table>\n",
       "<p>550068 rows × 10 columns</p>\n",
       "</div>"
      ],
      "text/plain": [
       "        User_ID Product_ID Gender    Age  Occupation City_Category  \\\n",
       "0       1000001  P00069042      F   0-17          10             A   \n",
       "1       1000001  P00248942      F   0-17          10             A   \n",
       "2       1000001  P00087842      F   0-17          10             A   \n",
       "3       1000001  P00085442      F   0-17          10             A   \n",
       "4       1000002  P00285442      M    55+          16             C   \n",
       "...         ...        ...    ...    ...         ...           ...   \n",
       "550063  1006033  P00372445      M  51-55          13             B   \n",
       "550064  1006035  P00375436      F  26-35           1             C   \n",
       "550065  1006036  P00375436      F  26-35          15             B   \n",
       "550066  1006038  P00375436      F    55+           1             C   \n",
       "550067  1006039  P00371644      F  46-50           0             B   \n",
       "\n",
       "       Stay_In_Current_City_Years  Marital_Status  Product_Category  Purchase  \n",
       "0                               2               0                 3      8370  \n",
       "1                               2               0                 1     15200  \n",
       "2                               2               0                12      1422  \n",
       "3                               2               0                12      1057  \n",
       "4                              4+               0                 8      7969  \n",
       "...                           ...             ...               ...       ...  \n",
       "550063                          1               1                20       368  \n",
       "550064                          3               0                20       371  \n",
       "550065                         4+               1                20       137  \n",
       "550066                          2               0                20       365  \n",
       "550067                         4+               1                20       490  \n",
       "\n",
       "[550068 rows x 10 columns]"
      ]
     },
     "execution_count": 2,
     "metadata": {},
     "output_type": "execute_result"
    }
   ],
   "source": [
    "df = pd.read_csv('/kaggle/input/walmart-e-commerce/walmart.csv')\n",
    "\n",
    "df"
   ]
  },
  {
   "cell_type": "markdown",
   "id": "1d74a038",
   "metadata": {
    "papermill": {
     "duration": 0.008745,
     "end_time": "2025-08-01T04:37:33.520511",
     "exception": false,
     "start_time": "2025-08-01T04:37:33.511766",
     "status": "completed"
    },
    "tags": []
   },
   "source": [
    "**Data Understanding and Cleaning**"
   ]
  },
  {
   "cell_type": "code",
   "execution_count": 3,
   "id": "f6cc6934",
   "metadata": {
    "execution": {
     "iopub.execute_input": "2025-08-01T04:37:33.538146Z",
     "iopub.status.busy": "2025-08-01T04:37:33.537831Z",
     "iopub.status.idle": "2025-08-01T04:37:33.702101Z",
     "shell.execute_reply": "2025-08-01T04:37:33.700792Z"
    },
    "executionInfo": {
     "elapsed": 100,
     "status": "ok",
     "timestamp": 1753659101059,
     "user": {
      "displayName": "Ahsan Mubarak",
      "userId": "13952536471194166156"
     },
     "user_tz": -420
    },
    "id": "23Xm3Qt3kFJ7",
    "outputId": "8f7a940c-4098-4999-9802-8db42bc147ef",
    "papermill": {
     "duration": 0.175006,
     "end_time": "2025-08-01T04:37:33.703975",
     "exception": false,
     "start_time": "2025-08-01T04:37:33.528969",
     "status": "completed"
    },
    "tags": []
   },
   "outputs": [
    {
     "name": "stdout",
     "output_type": "stream",
     "text": [
      "<class 'pandas.core.frame.DataFrame'>\n",
      "RangeIndex: 550068 entries, 0 to 550067\n",
      "Data columns (total 10 columns):\n",
      " #   Column                      Non-Null Count   Dtype \n",
      "---  ------                      --------------   ----- \n",
      " 0   User_ID                     550068 non-null  int64 \n",
      " 1   Product_ID                  550068 non-null  object\n",
      " 2   Gender                      550068 non-null  object\n",
      " 3   Age                         550068 non-null  object\n",
      " 4   Occupation                  550068 non-null  int64 \n",
      " 5   City_Category               550068 non-null  object\n",
      " 6   Stay_In_Current_City_Years  550068 non-null  object\n",
      " 7   Marital_Status              550068 non-null  int64 \n",
      " 8   Product_Category            550068 non-null  int64 \n",
      " 9   Purchase                    550068 non-null  int64 \n",
      "dtypes: int64(5), object(5)\n",
      "memory usage: 42.0+ MB\n"
     ]
    }
   ],
   "source": [
    "df.info()"
   ]
  },
  {
   "cell_type": "code",
   "execution_count": 4,
   "id": "e1134134",
   "metadata": {
    "execution": {
     "iopub.execute_input": "2025-08-01T04:37:33.721211Z",
     "iopub.status.busy": "2025-08-01T04:37:33.720909Z",
     "iopub.status.idle": "2025-08-01T04:37:33.755146Z",
     "shell.execute_reply": "2025-08-01T04:37:33.753975Z"
    },
    "executionInfo": {
     "elapsed": 69,
     "status": "ok",
     "timestamp": 1753659134310,
     "user": {
      "displayName": "Ahsan Mubarak",
      "userId": "13952536471194166156"
     },
     "user_tz": -420
    },
    "id": "C44yCrU7Opzn",
    "outputId": "56b84f41-6159-4f8b-cef6-2bd779830963",
    "papermill": {
     "duration": 0.044991,
     "end_time": "2025-08-01T04:37:33.756969",
     "exception": false,
     "start_time": "2025-08-01T04:37:33.711978",
     "status": "completed"
    },
    "tags": []
   },
   "outputs": [
    {
     "data": {
      "text/plain": [
       "array(['0-17', '55+', '26-35', '46-50', '51-55', '36-45', '18-25'],\n",
       "      dtype=object)"
      ]
     },
     "execution_count": 4,
     "metadata": {},
     "output_type": "execute_result"
    }
   ],
   "source": [
    "df['Age'].unique()"
   ]
  },
  {
   "cell_type": "code",
   "execution_count": 5,
   "id": "9565c7fd",
   "metadata": {
    "execution": {
     "iopub.execute_input": "2025-08-01T04:37:33.774146Z",
     "iopub.status.busy": "2025-08-01T04:37:33.773810Z",
     "iopub.status.idle": "2025-08-01T04:37:33.902992Z",
     "shell.execute_reply": "2025-08-01T04:37:33.901596Z"
    },
    "executionInfo": {
     "elapsed": 184,
     "status": "ok",
     "timestamp": 1753659606866,
     "user": {
      "displayName": "Ahsan Mubarak",
      "userId": "13952536471194166156"
     },
     "user_tz": -420
    },
    "id": "WXEKqKm6PZi9",
    "outputId": "781ea821-b8a7-4c65-dbe9-25611a945319",
    "papermill": {
     "duration": 0.139953,
     "end_time": "2025-08-01T04:37:33.905018",
     "exception": false,
     "start_time": "2025-08-01T04:37:33.765065",
     "status": "completed"
    },
    "tags": []
   },
   "outputs": [
    {
     "data": {
      "text/html": [
       "<div>\n",
       "<style scoped>\n",
       "    .dataframe tbody tr th:only-of-type {\n",
       "        vertical-align: middle;\n",
       "    }\n",
       "\n",
       "    .dataframe tbody tr th {\n",
       "        vertical-align: top;\n",
       "    }\n",
       "\n",
       "    .dataframe thead th {\n",
       "        text-align: right;\n",
       "    }\n",
       "</style>\n",
       "<table border=\"1\" class=\"dataframe\">\n",
       "  <thead>\n",
       "    <tr style=\"text-align: right;\">\n",
       "      <th></th>\n",
       "      <th>User_ID</th>\n",
       "      <th>Product_ID</th>\n",
       "      <th>Gender</th>\n",
       "      <th>Age</th>\n",
       "      <th>Occupation</th>\n",
       "      <th>City_Category</th>\n",
       "      <th>Stay_In_Current_City_Years</th>\n",
       "      <th>Marital_Status</th>\n",
       "      <th>Product_Category</th>\n",
       "      <th>Purchase</th>\n",
       "      <th>Age_Category</th>\n",
       "    </tr>\n",
       "  </thead>\n",
       "  <tbody>\n",
       "    <tr>\n",
       "      <th>0</th>\n",
       "      <td>1000001</td>\n",
       "      <td>P00069042</td>\n",
       "      <td>F</td>\n",
       "      <td>0-17</td>\n",
       "      <td>10</td>\n",
       "      <td>A</td>\n",
       "      <td>2</td>\n",
       "      <td>0</td>\n",
       "      <td>3</td>\n",
       "      <td>8370</td>\n",
       "      <td>Teenager</td>\n",
       "    </tr>\n",
       "    <tr>\n",
       "      <th>1</th>\n",
       "      <td>1000001</td>\n",
       "      <td>P00248942</td>\n",
       "      <td>F</td>\n",
       "      <td>0-17</td>\n",
       "      <td>10</td>\n",
       "      <td>A</td>\n",
       "      <td>2</td>\n",
       "      <td>0</td>\n",
       "      <td>1</td>\n",
       "      <td>15200</td>\n",
       "      <td>Teenager</td>\n",
       "    </tr>\n",
       "    <tr>\n",
       "      <th>2</th>\n",
       "      <td>1000001</td>\n",
       "      <td>P00087842</td>\n",
       "      <td>F</td>\n",
       "      <td>0-17</td>\n",
       "      <td>10</td>\n",
       "      <td>A</td>\n",
       "      <td>2</td>\n",
       "      <td>0</td>\n",
       "      <td>12</td>\n",
       "      <td>1422</td>\n",
       "      <td>Teenager</td>\n",
       "    </tr>\n",
       "    <tr>\n",
       "      <th>3</th>\n",
       "      <td>1000001</td>\n",
       "      <td>P00085442</td>\n",
       "      <td>F</td>\n",
       "      <td>0-17</td>\n",
       "      <td>10</td>\n",
       "      <td>A</td>\n",
       "      <td>2</td>\n",
       "      <td>0</td>\n",
       "      <td>12</td>\n",
       "      <td>1057</td>\n",
       "      <td>Teenager</td>\n",
       "    </tr>\n",
       "    <tr>\n",
       "      <th>4</th>\n",
       "      <td>1000002</td>\n",
       "      <td>P00285442</td>\n",
       "      <td>M</td>\n",
       "      <td>55+</td>\n",
       "      <td>16</td>\n",
       "      <td>C</td>\n",
       "      <td>4+</td>\n",
       "      <td>0</td>\n",
       "      <td>8</td>\n",
       "      <td>7969</td>\n",
       "      <td>Seniors</td>\n",
       "    </tr>\n",
       "    <tr>\n",
       "      <th>...</th>\n",
       "      <td>...</td>\n",
       "      <td>...</td>\n",
       "      <td>...</td>\n",
       "      <td>...</td>\n",
       "      <td>...</td>\n",
       "      <td>...</td>\n",
       "      <td>...</td>\n",
       "      <td>...</td>\n",
       "      <td>...</td>\n",
       "      <td>...</td>\n",
       "      <td>...</td>\n",
       "    </tr>\n",
       "    <tr>\n",
       "      <th>550063</th>\n",
       "      <td>1006033</td>\n",
       "      <td>P00372445</td>\n",
       "      <td>M</td>\n",
       "      <td>51-55</td>\n",
       "      <td>13</td>\n",
       "      <td>B</td>\n",
       "      <td>1</td>\n",
       "      <td>1</td>\n",
       "      <td>20</td>\n",
       "      <td>368</td>\n",
       "      <td>Pre-Seniors</td>\n",
       "    </tr>\n",
       "    <tr>\n",
       "      <th>550064</th>\n",
       "      <td>1006035</td>\n",
       "      <td>P00375436</td>\n",
       "      <td>F</td>\n",
       "      <td>26-35</td>\n",
       "      <td>1</td>\n",
       "      <td>C</td>\n",
       "      <td>3</td>\n",
       "      <td>0</td>\n",
       "      <td>20</td>\n",
       "      <td>371</td>\n",
       "      <td>Adult</td>\n",
       "    </tr>\n",
       "    <tr>\n",
       "      <th>550065</th>\n",
       "      <td>1006036</td>\n",
       "      <td>P00375436</td>\n",
       "      <td>F</td>\n",
       "      <td>26-35</td>\n",
       "      <td>15</td>\n",
       "      <td>B</td>\n",
       "      <td>4+</td>\n",
       "      <td>1</td>\n",
       "      <td>20</td>\n",
       "      <td>137</td>\n",
       "      <td>Adult</td>\n",
       "    </tr>\n",
       "    <tr>\n",
       "      <th>550066</th>\n",
       "      <td>1006038</td>\n",
       "      <td>P00375436</td>\n",
       "      <td>F</td>\n",
       "      <td>55+</td>\n",
       "      <td>1</td>\n",
       "      <td>C</td>\n",
       "      <td>2</td>\n",
       "      <td>0</td>\n",
       "      <td>20</td>\n",
       "      <td>365</td>\n",
       "      <td>Seniors</td>\n",
       "    </tr>\n",
       "    <tr>\n",
       "      <th>550067</th>\n",
       "      <td>1006039</td>\n",
       "      <td>P00371644</td>\n",
       "      <td>F</td>\n",
       "      <td>46-50</td>\n",
       "      <td>0</td>\n",
       "      <td>B</td>\n",
       "      <td>4+</td>\n",
       "      <td>1</td>\n",
       "      <td>20</td>\n",
       "      <td>490</td>\n",
       "      <td>Older Adults</td>\n",
       "    </tr>\n",
       "  </tbody>\n",
       "</table>\n",
       "<p>550068 rows × 11 columns</p>\n",
       "</div>"
      ],
      "text/plain": [
       "        User_ID Product_ID Gender    Age  Occupation City_Category  \\\n",
       "0       1000001  P00069042      F   0-17          10             A   \n",
       "1       1000001  P00248942      F   0-17          10             A   \n",
       "2       1000001  P00087842      F   0-17          10             A   \n",
       "3       1000001  P00085442      F   0-17          10             A   \n",
       "4       1000002  P00285442      M    55+          16             C   \n",
       "...         ...        ...    ...    ...         ...           ...   \n",
       "550063  1006033  P00372445      M  51-55          13             B   \n",
       "550064  1006035  P00375436      F  26-35           1             C   \n",
       "550065  1006036  P00375436      F  26-35          15             B   \n",
       "550066  1006038  P00375436      F    55+           1             C   \n",
       "550067  1006039  P00371644      F  46-50           0             B   \n",
       "\n",
       "       Stay_In_Current_City_Years  Marital_Status  Product_Category  Purchase  \\\n",
       "0                               2               0                 3      8370   \n",
       "1                               2               0                 1     15200   \n",
       "2                               2               0                12      1422   \n",
       "3                               2               0                12      1057   \n",
       "4                              4+               0                 8      7969   \n",
       "...                           ...             ...               ...       ...   \n",
       "550063                          1               1                20       368   \n",
       "550064                          3               0                20       371   \n",
       "550065                         4+               1                20       137   \n",
       "550066                          2               0                20       365   \n",
       "550067                         4+               1                20       490   \n",
       "\n",
       "        Age_Category  \n",
       "0           Teenager  \n",
       "1           Teenager  \n",
       "2           Teenager  \n",
       "3           Teenager  \n",
       "4            Seniors  \n",
       "...              ...  \n",
       "550063   Pre-Seniors  \n",
       "550064         Adult  \n",
       "550065         Adult  \n",
       "550066       Seniors  \n",
       "550067  Older Adults  \n",
       "\n",
       "[550068 rows x 11 columns]"
      ]
     },
     "execution_count": 5,
     "metadata": {},
     "output_type": "execute_result"
    }
   ],
   "source": [
    "def age_category(age):\n",
    "  if age == '0-17':\n",
    "    return 'Teenager'\n",
    "  elif age == '18-25':\n",
    "    return 'Young Adult'\n",
    "  elif age == '26-35':\n",
    "    return 'Adult'\n",
    "  elif age == '36-45':\n",
    "    return 'Middle-Aged Adult'\n",
    "  elif age == '46-50':\n",
    "    return 'Older Adults'\n",
    "  elif age == '51-55':\n",
    "    return 'Pre-Seniors'\n",
    "  else:\n",
    "    return 'Seniors'\n",
    "\n",
    "df['Age_Category'] = df['Age'].apply(age_category)\n",
    "df"
   ]
  },
  {
   "cell_type": "code",
   "execution_count": 6,
   "id": "7f131f0a",
   "metadata": {
    "execution": {
     "iopub.execute_input": "2025-08-01T04:37:33.923877Z",
     "iopub.status.busy": "2025-08-01T04:37:33.923553Z",
     "iopub.status.idle": "2025-08-01T04:37:34.096541Z",
     "shell.execute_reply": "2025-08-01T04:37:34.095383Z"
    },
    "executionInfo": {
     "elapsed": 206,
     "status": "ok",
     "timestamp": 1753659634245,
     "user": {
      "displayName": "Ahsan Mubarak",
      "userId": "13952536471194166156"
     },
     "user_tz": -420
    },
    "id": "QGFmedFtQkg0",
    "outputId": "739b361a-1395-4734-e00b-743d007bbb8f",
    "papermill": {
     "duration": 0.184689,
     "end_time": "2025-08-01T04:37:34.098311",
     "exception": false,
     "start_time": "2025-08-01T04:37:33.913622",
     "status": "completed"
    },
    "tags": []
   },
   "outputs": [
    {
     "data": {
      "text/plain": [
       "User_ID                       0\n",
       "Product_ID                    0\n",
       "Gender                        0\n",
       "Age                           0\n",
       "Occupation                    0\n",
       "City_Category                 0\n",
       "Stay_In_Current_City_Years    0\n",
       "Marital_Status                0\n",
       "Product_Category              0\n",
       "Purchase                      0\n",
       "Age_Category                  0\n",
       "dtype: int64"
      ]
     },
     "execution_count": 6,
     "metadata": {},
     "output_type": "execute_result"
    }
   ],
   "source": [
    "df.isna().sum()"
   ]
  },
  {
   "cell_type": "code",
   "execution_count": 7,
   "id": "1102b038",
   "metadata": {
    "execution": {
     "iopub.execute_input": "2025-08-01T04:37:34.116943Z",
     "iopub.status.busy": "2025-08-01T04:37:34.116567Z",
     "iopub.status.idle": "2025-08-01T04:37:34.390948Z",
     "shell.execute_reply": "2025-08-01T04:37:34.389876Z"
    },
    "executionInfo": {
     "elapsed": 278,
     "status": "ok",
     "timestamp": 1753659643386,
     "user": {
      "displayName": "Ahsan Mubarak",
      "userId": "13952536471194166156"
     },
     "user_tz": -420
    },
    "id": "ldx3q967Qn5M",
    "outputId": "9ffc5280-0f42-4d1a-c6b5-3ca66fa7d2f8",
    "papermill": {
     "duration": 0.285733,
     "end_time": "2025-08-01T04:37:34.392732",
     "exception": false,
     "start_time": "2025-08-01T04:37:34.106999",
     "status": "completed"
    },
    "tags": []
   },
   "outputs": [
    {
     "data": {
      "text/plain": [
       "0"
      ]
     },
     "execution_count": 7,
     "metadata": {},
     "output_type": "execute_result"
    }
   ],
   "source": [
    "df.duplicated().sum()"
   ]
  },
  {
   "cell_type": "code",
   "execution_count": 8,
   "id": "66cbfaa7",
   "metadata": {
    "execution": {
     "iopub.execute_input": "2025-08-01T04:37:34.411227Z",
     "iopub.status.busy": "2025-08-01T04:37:34.410894Z",
     "iopub.status.idle": "2025-08-01T04:37:34.599019Z",
     "shell.execute_reply": "2025-08-01T04:37:34.597565Z"
    },
    "executionInfo": {
     "elapsed": 102,
     "status": "ok",
     "timestamp": 1753659663875,
     "user": {
      "displayName": "Ahsan Mubarak",
      "userId": "13952536471194166156"
     },
     "user_tz": -420
    },
    "id": "eavsyDD6Qpzw",
    "outputId": "61b64440-4ea1-4866-b442-3235414d16c9",
    "papermill": {
     "duration": 0.199881,
     "end_time": "2025-08-01T04:37:34.600930",
     "exception": false,
     "start_time": "2025-08-01T04:37:34.401049",
     "status": "completed"
    },
    "tags": []
   },
   "outputs": [
    {
     "data": {
      "text/html": [
       "<div>\n",
       "<style scoped>\n",
       "    .dataframe tbody tr th:only-of-type {\n",
       "        vertical-align: middle;\n",
       "    }\n",
       "\n",
       "    .dataframe tbody tr th {\n",
       "        vertical-align: top;\n",
       "    }\n",
       "\n",
       "    .dataframe thead th {\n",
       "        text-align: right;\n",
       "    }\n",
       "</style>\n",
       "<table border=\"1\" class=\"dataframe\">\n",
       "  <thead>\n",
       "    <tr style=\"text-align: right;\">\n",
       "      <th></th>\n",
       "      <th>User_ID</th>\n",
       "      <th>Occupation</th>\n",
       "      <th>Marital_Status</th>\n",
       "      <th>Product_Category</th>\n",
       "      <th>Purchase</th>\n",
       "    </tr>\n",
       "  </thead>\n",
       "  <tbody>\n",
       "    <tr>\n",
       "      <th>count</th>\n",
       "      <td>5.500680e+05</td>\n",
       "      <td>550068.000000</td>\n",
       "      <td>550068.000000</td>\n",
       "      <td>550068.000000</td>\n",
       "      <td>550068.000000</td>\n",
       "    </tr>\n",
       "    <tr>\n",
       "      <th>mean</th>\n",
       "      <td>1.003029e+06</td>\n",
       "      <td>8.076707</td>\n",
       "      <td>0.409653</td>\n",
       "      <td>5.404270</td>\n",
       "      <td>9263.968713</td>\n",
       "    </tr>\n",
       "    <tr>\n",
       "      <th>std</th>\n",
       "      <td>1.727592e+03</td>\n",
       "      <td>6.522660</td>\n",
       "      <td>0.491770</td>\n",
       "      <td>3.936211</td>\n",
       "      <td>5023.065394</td>\n",
       "    </tr>\n",
       "    <tr>\n",
       "      <th>min</th>\n",
       "      <td>1.000001e+06</td>\n",
       "      <td>0.000000</td>\n",
       "      <td>0.000000</td>\n",
       "      <td>1.000000</td>\n",
       "      <td>12.000000</td>\n",
       "    </tr>\n",
       "    <tr>\n",
       "      <th>25%</th>\n",
       "      <td>1.001516e+06</td>\n",
       "      <td>2.000000</td>\n",
       "      <td>0.000000</td>\n",
       "      <td>1.000000</td>\n",
       "      <td>5823.000000</td>\n",
       "    </tr>\n",
       "    <tr>\n",
       "      <th>50%</th>\n",
       "      <td>1.003077e+06</td>\n",
       "      <td>7.000000</td>\n",
       "      <td>0.000000</td>\n",
       "      <td>5.000000</td>\n",
       "      <td>8047.000000</td>\n",
       "    </tr>\n",
       "    <tr>\n",
       "      <th>75%</th>\n",
       "      <td>1.004478e+06</td>\n",
       "      <td>14.000000</td>\n",
       "      <td>1.000000</td>\n",
       "      <td>8.000000</td>\n",
       "      <td>12054.000000</td>\n",
       "    </tr>\n",
       "    <tr>\n",
       "      <th>max</th>\n",
       "      <td>1.006040e+06</td>\n",
       "      <td>20.000000</td>\n",
       "      <td>1.000000</td>\n",
       "      <td>20.000000</td>\n",
       "      <td>23961.000000</td>\n",
       "    </tr>\n",
       "  </tbody>\n",
       "</table>\n",
       "</div>"
      ],
      "text/plain": [
       "            User_ID     Occupation  Marital_Status  Product_Category  \\\n",
       "count  5.500680e+05  550068.000000   550068.000000     550068.000000   \n",
       "mean   1.003029e+06       8.076707        0.409653          5.404270   \n",
       "std    1.727592e+03       6.522660        0.491770          3.936211   \n",
       "min    1.000001e+06       0.000000        0.000000          1.000000   \n",
       "25%    1.001516e+06       2.000000        0.000000          1.000000   \n",
       "50%    1.003077e+06       7.000000        0.000000          5.000000   \n",
       "75%    1.004478e+06      14.000000        1.000000          8.000000   \n",
       "max    1.006040e+06      20.000000        1.000000         20.000000   \n",
       "\n",
       "            Purchase  \n",
       "count  550068.000000  \n",
       "mean     9263.968713  \n",
       "std      5023.065394  \n",
       "min        12.000000  \n",
       "25%      5823.000000  \n",
       "50%      8047.000000  \n",
       "75%     12054.000000  \n",
       "max     23961.000000  "
      ]
     },
     "execution_count": 8,
     "metadata": {},
     "output_type": "execute_result"
    }
   ],
   "source": [
    "df.describe()"
   ]
  },
  {
   "cell_type": "code",
   "execution_count": 9,
   "id": "9ee3a62e",
   "metadata": {
    "execution": {
     "iopub.execute_input": "2025-08-01T04:37:34.621465Z",
     "iopub.status.busy": "2025-08-01T04:37:34.621087Z",
     "iopub.status.idle": "2025-08-01T04:37:35.233979Z",
     "shell.execute_reply": "2025-08-01T04:37:35.232761Z"
    },
    "executionInfo": {
     "elapsed": 1458,
     "status": "ok",
     "timestamp": 1753659825866,
     "user": {
      "displayName": "Ahsan Mubarak",
      "userId": "13952536471194166156"
     },
     "user_tz": -420
    },
    "id": "is3YPQwuQ2hj",
    "outputId": "f3b3e434-bb69-4881-a535-d7e4eef80f30",
    "papermill": {
     "duration": 0.626024,
     "end_time": "2025-08-01T04:37:35.235626",
     "exception": false,
     "start_time": "2025-08-01T04:37:34.609602",
     "status": "completed"
    },
    "tags": []
   },
   "outputs": [
    {
     "name": "stderr",
     "output_type": "stream",
     "text": [
      "/usr/local/lib/python3.11/dist-packages/seaborn/_oldcore.py:1119: FutureWarning: use_inf_as_na option is deprecated and will be removed in a future version. Convert inf values to NaN before operating instead.\n",
      "  with pd.option_context('mode.use_inf_as_na', True):\n"
     ]
    },
    {
     "data": {
      "image/png": "[encoded data removed]",
      "text/plain": [
       "<Figure size 640x480 with 1 Axes>"
      ]
     },
     "metadata": {},
     "output_type": "display_data"
    }
   ],
   "source": [
    "sns.histplot(df['Purchase'], bins=20)\n",
    "ax = plt.gca()\n",
    "ax.spines['top'].set_visible(False)\n",
    "ax.spines['right'].set_visible(False)\n",
    "ax.spines['left'].set_color('gray')\n",
    "ax.spines['bottom'].set_color('gray')\n",
    "ax.spines['left'].set_linewidth(0.8)\n",
    "ax.spines['bottom'].set_linewidth(0.8)\n",
    "plt.show()"
   ]
  },
  {
   "cell_type": "code",
   "execution_count": 10,
   "id": "3ec4f438",
   "metadata": {
    "execution": {
     "iopub.execute_input": "2025-08-01T04:37:35.255591Z",
     "iopub.status.busy": "2025-08-01T04:37:35.255212Z",
     "iopub.status.idle": "2025-08-01T04:37:35.402965Z",
     "shell.execute_reply": "2025-08-01T04:37:35.401681Z"
    },
    "executionInfo": {
     "elapsed": 1432,
     "status": "ok",
     "timestamp": 1753659878919,
     "user": {
      "displayName": "Ahsan Mubarak",
      "userId": "13952536471194166156"
     },
     "user_tz": -420
    },
    "id": "wPOYiw1kRbsw",
    "outputId": "c08d18a6-f13b-4fdb-a551-1541111f7506",
    "papermill": {
     "duration": 0.159969,
     "end_time": "2025-08-01T04:37:35.404897",
     "exception": false,
     "start_time": "2025-08-01T04:37:35.244928",
     "status": "completed"
    },
    "tags": []
   },
   "outputs": [
    {
     "data": {
      "image/png": "[encoded data removed]",
      "text/plain": [
       "<Figure size 640x480 with 1 Axes>"
      ]
     },
     "metadata": {},
     "output_type": "display_data"
    }
   ],
   "source": [
    "sns.boxplot(df['Purchase'])\n",
    "ax = plt.gca()\n",
    "ax.spines['top'].set_visible(False)\n",
    "ax.spines['right'].set_visible(False)\n",
    "ax.spines['left'].set_color('gray')\n",
    "ax.spines['bottom'].set_color('gray')\n",
    "ax.spines['left'].set_linewidth(0.8)\n",
    "ax.spines['bottom'].set_linewidth(0.8)\n",
    "plt.show()"
   ]
  },
  {
   "cell_type": "code",
   "execution_count": 11,
   "id": "572286a4",
   "metadata": {
    "execution": {
     "iopub.execute_input": "2025-08-01T04:37:35.427789Z",
     "iopub.status.busy": "2025-08-01T04:37:35.427390Z",
     "iopub.status.idle": "2025-08-01T04:37:35.471102Z",
     "shell.execute_reply": "2025-08-01T04:37:35.469907Z"
    },
    "executionInfo": {
     "elapsed": 60,
     "status": "ok",
     "timestamp": 1753659975380,
     "user": {
      "displayName": "Ahsan Mubarak",
      "userId": "13952536471194166156"
     },
     "user_tz": -420
    },
    "id": "E3hVLl_HRj8p",
    "outputId": "c9b526f9-3009-49e8-b03d-633b08911e42",
    "papermill": {
     "duration": 0.056518,
     "end_time": "2025-08-01T04:37:35.472978",
     "exception": false,
     "start_time": "2025-08-01T04:37:35.416460",
     "status": "completed"
    },
    "tags": []
   },
   "outputs": [
    {
     "data": {
      "text/plain": [
       "User_ID                       2677\n",
       "Product_ID                    2677\n",
       "Gender                        2677\n",
       "Age                           2677\n",
       "Occupation                    2677\n",
       "City_Category                 2677\n",
       "Stay_In_Current_City_Years    2677\n",
       "Marital_Status                2677\n",
       "Product_Category              2677\n",
       "Purchase                      2677\n",
       "Age_Category                  2677\n",
       "dtype: int64"
      ]
     },
     "execution_count": 11,
     "metadata": {},
     "output_type": "execute_result"
    }
   ],
   "source": [
    "Q1 = df['Purchase'].quantile(0.25)\n",
    "Q3 = df['Purchase'].quantile(0.75)\n",
    "IQR = Q3 - Q1\n",
    "outliers = df[(df['Purchase'] < Q1 - 1.5 * IQR) | (df['Purchase'] > Q3 + 1.5 * IQR)]\n",
    "outliers.count()"
   ]
  },
  {
   "cell_type": "code",
   "execution_count": 12,
   "id": "c3389203",
   "metadata": {
    "execution": {
     "iopub.execute_input": "2025-08-01T04:37:35.493285Z",
     "iopub.status.busy": "2025-08-01T04:37:35.492930Z",
     "iopub.status.idle": "2025-08-01T04:37:35.507550Z",
     "shell.execute_reply": "2025-08-01T04:37:35.506483Z"
    },
    "executionInfo": {
     "elapsed": 63,
     "status": "ok",
     "timestamp": 1753660007520,
     "user": {
      "displayName": "Ahsan Mubarak",
      "userId": "13952536471194166156"
     },
     "user_tz": -420
    },
    "id": "n-CdIwbIR_rW",
    "outputId": "118f7fa5-2faf-47d0-e42d-682ffbee482f",
    "papermill": {
     "duration": 0.02662,
     "end_time": "2025-08-01T04:37:35.509149",
     "exception": false,
     "start_time": "2025-08-01T04:37:35.482529",
     "status": "completed"
    },
    "tags": []
   },
   "outputs": [
    {
     "data": {
      "text/html": [
       "<div>\n",
       "<style scoped>\n",
       "    .dataframe tbody tr th:only-of-type {\n",
       "        vertical-align: middle;\n",
       "    }\n",
       "\n",
       "    .dataframe tbody tr th {\n",
       "        vertical-align: top;\n",
       "    }\n",
       "\n",
       "    .dataframe thead th {\n",
       "        text-align: right;\n",
       "    }\n",
       "</style>\n",
       "<table border=\"1\" class=\"dataframe\">\n",
       "  <thead>\n",
       "    <tr style=\"text-align: right;\">\n",
       "      <th></th>\n",
       "      <th>User_ID</th>\n",
       "      <th>Product_ID</th>\n",
       "      <th>Gender</th>\n",
       "      <th>Age</th>\n",
       "      <th>Occupation</th>\n",
       "      <th>City_Category</th>\n",
       "      <th>Stay_In_Current_City_Years</th>\n",
       "      <th>Marital_Status</th>\n",
       "      <th>Product_Category</th>\n",
       "      <th>Purchase</th>\n",
       "      <th>Age_Category</th>\n",
       "    </tr>\n",
       "  </thead>\n",
       "  <tbody>\n",
       "    <tr>\n",
       "      <th>343</th>\n",
       "      <td>1000058</td>\n",
       "      <td>P00117642</td>\n",
       "      <td>M</td>\n",
       "      <td>26-35</td>\n",
       "      <td>2</td>\n",
       "      <td>B</td>\n",
       "      <td>3</td>\n",
       "      <td>0</td>\n",
       "      <td>10</td>\n",
       "      <td>23603</td>\n",
       "      <td>Adult</td>\n",
       "    </tr>\n",
       "    <tr>\n",
       "      <th>375</th>\n",
       "      <td>1000062</td>\n",
       "      <td>P00119342</td>\n",
       "      <td>F</td>\n",
       "      <td>36-45</td>\n",
       "      <td>3</td>\n",
       "      <td>A</td>\n",
       "      <td>1</td>\n",
       "      <td>0</td>\n",
       "      <td>10</td>\n",
       "      <td>23792</td>\n",
       "      <td>Middle-Aged Adult</td>\n",
       "    </tr>\n",
       "    <tr>\n",
       "      <th>652</th>\n",
       "      <td>1000126</td>\n",
       "      <td>P00087042</td>\n",
       "      <td>M</td>\n",
       "      <td>18-25</td>\n",
       "      <td>9</td>\n",
       "      <td>B</td>\n",
       "      <td>1</td>\n",
       "      <td>0</td>\n",
       "      <td>10</td>\n",
       "      <td>23233</td>\n",
       "      <td>Young Adult</td>\n",
       "    </tr>\n",
       "    <tr>\n",
       "      <th>736</th>\n",
       "      <td>1000139</td>\n",
       "      <td>P00159542</td>\n",
       "      <td>F</td>\n",
       "      <td>26-35</td>\n",
       "      <td>20</td>\n",
       "      <td>C</td>\n",
       "      <td>2</td>\n",
       "      <td>0</td>\n",
       "      <td>10</td>\n",
       "      <td>23595</td>\n",
       "      <td>Adult</td>\n",
       "    </tr>\n",
       "    <tr>\n",
       "      <th>1041</th>\n",
       "      <td>1000175</td>\n",
       "      <td>P00052842</td>\n",
       "      <td>F</td>\n",
       "      <td>26-35</td>\n",
       "      <td>2</td>\n",
       "      <td>B</td>\n",
       "      <td>1</td>\n",
       "      <td>0</td>\n",
       "      <td>10</td>\n",
       "      <td>23341</td>\n",
       "      <td>Adult</td>\n",
       "    </tr>\n",
       "    <tr>\n",
       "      <th>...</th>\n",
       "      <td>...</td>\n",
       "      <td>...</td>\n",
       "      <td>...</td>\n",
       "      <td>...</td>\n",
       "      <td>...</td>\n",
       "      <td>...</td>\n",
       "      <td>...</td>\n",
       "      <td>...</td>\n",
       "      <td>...</td>\n",
       "      <td>...</td>\n",
       "      <td>...</td>\n",
       "    </tr>\n",
       "    <tr>\n",
       "      <th>544488</th>\n",
       "      <td>1005815</td>\n",
       "      <td>P00116142</td>\n",
       "      <td>M</td>\n",
       "      <td>26-35</td>\n",
       "      <td>20</td>\n",
       "      <td>B</td>\n",
       "      <td>1</td>\n",
       "      <td>0</td>\n",
       "      <td>10</td>\n",
       "      <td>23753</td>\n",
       "      <td>Adult</td>\n",
       "    </tr>\n",
       "    <tr>\n",
       "      <th>544704</th>\n",
       "      <td>1005847</td>\n",
       "      <td>P00085342</td>\n",
       "      <td>F</td>\n",
       "      <td>18-25</td>\n",
       "      <td>4</td>\n",
       "      <td>B</td>\n",
       "      <td>2</td>\n",
       "      <td>0</td>\n",
       "      <td>10</td>\n",
       "      <td>23724</td>\n",
       "      <td>Young Adult</td>\n",
       "    </tr>\n",
       "    <tr>\n",
       "      <th>544743</th>\n",
       "      <td>1005852</td>\n",
       "      <td>P00202242</td>\n",
       "      <td>F</td>\n",
       "      <td>26-35</td>\n",
       "      <td>1</td>\n",
       "      <td>A</td>\n",
       "      <td>0</td>\n",
       "      <td>1</td>\n",
       "      <td>10</td>\n",
       "      <td>23529</td>\n",
       "      <td>Adult</td>\n",
       "    </tr>\n",
       "    <tr>\n",
       "      <th>545663</th>\n",
       "      <td>1006002</td>\n",
       "      <td>P00116142</td>\n",
       "      <td>M</td>\n",
       "      <td>51-55</td>\n",
       "      <td>0</td>\n",
       "      <td>C</td>\n",
       "      <td>1</td>\n",
       "      <td>1</td>\n",
       "      <td>10</td>\n",
       "      <td>23663</td>\n",
       "      <td>Pre-Seniors</td>\n",
       "    </tr>\n",
       "    <tr>\n",
       "      <th>545787</th>\n",
       "      <td>1006018</td>\n",
       "      <td>P00052842</td>\n",
       "      <td>M</td>\n",
       "      <td>36-45</td>\n",
       "      <td>1</td>\n",
       "      <td>C</td>\n",
       "      <td>3</td>\n",
       "      <td>0</td>\n",
       "      <td>10</td>\n",
       "      <td>23496</td>\n",
       "      <td>Middle-Aged Adult</td>\n",
       "    </tr>\n",
       "  </tbody>\n",
       "</table>\n",
       "<p>2677 rows × 11 columns</p>\n",
       "</div>"
      ],
      "text/plain": [
       "        User_ID Product_ID Gender    Age  Occupation City_Category  \\\n",
       "343     1000058  P00117642      M  26-35           2             B   \n",
       "375     1000062  P00119342      F  36-45           3             A   \n",
       "652     1000126  P00087042      M  18-25           9             B   \n",
       "736     1000139  P00159542      F  26-35          20             C   \n",
       "1041    1000175  P00052842      F  26-35           2             B   \n",
       "...         ...        ...    ...    ...         ...           ...   \n",
       "544488  1005815  P00116142      M  26-35          20             B   \n",
       "544704  1005847  P00085342      F  18-25           4             B   \n",
       "544743  1005852  P00202242      F  26-35           1             A   \n",
       "545663  1006002  P00116142      M  51-55           0             C   \n",
       "545787  1006018  P00052842      M  36-45           1             C   \n",
       "\n",
       "       Stay_In_Current_City_Years  Marital_Status  Product_Category  Purchase  \\\n",
       "343                             3               0                10     23603   \n",
       "375                             1               0                10     23792   \n",
       "652                             1               0                10     23233   \n",
       "736                             2               0                10     23595   \n",
       "1041                            1               0                10     23341   \n",
       "...                           ...             ...               ...       ...   \n",
       "544488                          1               0                10     23753   \n",
       "544704                          2               0                10     23724   \n",
       "544743                          0               1                10     23529   \n",
       "545663                          1               1                10     23663   \n",
       "545787                          3               0                10     23496   \n",
       "\n",
       "             Age_Category  \n",
       "343                 Adult  \n",
       "375     Middle-Aged Adult  \n",
       "652           Young Adult  \n",
       "736                 Adult  \n",
       "1041                Adult  \n",
       "...                   ...  \n",
       "544488              Adult  \n",
       "544704        Young Adult  \n",
       "544743              Adult  \n",
       "545663        Pre-Seniors  \n",
       "545787  Middle-Aged Adult  \n",
       "\n",
       "[2677 rows x 11 columns]"
      ]
     },
     "execution_count": 12,
     "metadata": {},
     "output_type": "execute_result"
    }
   ],
   "source": [
    "outliers"
   ]
  },
  {
   "cell_type": "code",
   "execution_count": 13,
   "id": "67a65aa0",
   "metadata": {
    "execution": {
     "iopub.execute_input": "2025-08-01T04:37:35.530274Z",
     "iopub.status.busy": "2025-08-01T04:37:35.529893Z",
     "iopub.status.idle": "2025-08-01T04:37:35.539209Z",
     "shell.execute_reply": "2025-08-01T04:37:35.538165Z"
    },
    "executionInfo": {
     "elapsed": 27,
     "status": "ok",
     "timestamp": 1753660087641,
     "user": {
      "displayName": "Ahsan Mubarak",
      "userId": "13952536471194166156"
     },
     "user_tz": -420
    },
    "id": "lJUmNL0KSGj0",
    "outputId": "4758535b-18e8-4060-b556-d1764efbc3b2",
    "papermill": {
     "duration": 0.022274,
     "end_time": "2025-08-01T04:37:35.541315",
     "exception": false,
     "start_time": "2025-08-01T04:37:35.519041",
     "status": "completed"
    },
    "tags": []
   },
   "outputs": [
    {
     "data": {
      "text/plain": [
       "min       12\n",
       "max    23961\n",
       "Name: Purchase, dtype: int64"
      ]
     },
     "execution_count": 13,
     "metadata": {},
     "output_type": "execute_result"
    }
   ],
   "source": [
    "df['Purchase'].agg(['min', 'max'])\n"
   ]
  },
  {
   "cell_type": "markdown",
   "id": "fe3ef034",
   "metadata": {
    "papermill": {
     "duration": 0.010295,
     "end_time": "2025-08-01T04:37:35.561611",
     "exception": false,
     "start_time": "2025-08-01T04:37:35.551316",
     "status": "completed"
    },
    "tags": []
   },
   "source": [
    "There are outliers, but after reviewing them, it's clear that the high sales are genuine and not due to data errors. So I decided to keep them in the analysis. There are outliers, but if you look at them, it's true that sales are high, not due to data errors, so I let them be."
   ]
  },
  {
   "cell_type": "markdown",
   "id": "87cbace9",
   "metadata": {
    "papermill": {
     "duration": 0.010993,
     "end_time": "2025-08-01T04:37:35.582376",
     "exception": false,
     "start_time": "2025-08-01T04:37:35.571383",
     "status": "completed"
    },
    "tags": []
   },
   "source": [
    "**Exploratory Data Analyst**"
   ]
  },
  {
   "cell_type": "code",
   "execution_count": 14,
   "id": "0e6a46ff",
   "metadata": {
    "execution": {
     "iopub.execute_input": "2025-08-01T04:37:35.607527Z",
     "iopub.status.busy": "2025-08-01T04:37:35.607113Z",
     "iopub.status.idle": "2025-08-01T04:37:35.667738Z",
     "shell.execute_reply": "2025-08-01T04:37:35.666489Z"
    },
    "executionInfo": {
     "elapsed": 113,
     "status": "ok",
     "timestamp": 1753660213769,
     "user": {
      "displayName": "Ahsan Mubarak",
      "userId": "13952536471194166156"
     },
     "user_tz": -420
    },
    "id": "_m1XFp_SSWh5",
    "outputId": "341b23ed-f407-4135-91a0-422f910b639a",
    "papermill": {
     "duration": 0.076863,
     "end_time": "2025-08-01T04:37:35.669216",
     "exception": false,
     "start_time": "2025-08-01T04:37:35.592353",
     "status": "completed"
    },
    "tags": []
   },
   "outputs": [
    {
     "data": {
      "text/plain": [
       "Product_ID\n",
       "P00025442    27995166\n",
       "P00110742    26722309\n",
       "P00255842    25168963\n",
       "P00059442    24338343\n",
       "P00184942    24334887\n",
       "P00112142    24216006\n",
       "P00110942    23639564\n",
       "P00237542    23425576\n",
       "P00057642    23102780\n",
       "P00010742    22164153\n",
       "Name: Purchase, dtype: int64"
      ]
     },
     "execution_count": 14,
     "metadata": {},
     "output_type": "execute_result"
    }
   ],
   "source": [
    "df.groupby('Product_ID')['Purchase'].sum().nlargest(10)"
   ]
  },
  {
   "cell_type": "code",
   "execution_count": 15,
   "id": "3f7192a4",
   "metadata": {
    "execution": {
     "iopub.execute_input": "2025-08-01T04:37:35.690376Z",
     "iopub.status.busy": "2025-08-01T04:37:35.690087Z",
     "iopub.status.idle": "2025-08-01T04:37:35.964927Z",
     "shell.execute_reply": "2025-08-01T04:37:35.963897Z"
    },
    "executionInfo": {
     "elapsed": 326,
     "status": "ok",
     "timestamp": 1753660811601,
     "user": {
      "displayName": "Ahsan Mubarak",
      "userId": "13952536471194166156"
     },
     "user_tz": -420
    },
    "id": "esFGqFDPS7_6",
    "outputId": "6116eec2-9a0e-4ac5-d0e5-436da72a9961",
    "papermill": {
     "duration": 0.287307,
     "end_time": "2025-08-01T04:37:35.966621",
     "exception": false,
     "start_time": "2025-08-01T04:37:35.679314",
     "status": "completed"
    },
    "tags": []
   },
   "outputs": [
    {
     "data": {
      "image/png": "[encoded data removed]",
      "text/plain": [
       "<Figure size 800x500 with 1 Axes>"
      ]
     },
     "metadata": {},
     "output_type": "display_data"
    }
   ],
   "source": [
    "revenue_by_product = df.groupby('Product_ID')['Purchase'].sum().nlargest(10).sort_values(ascending=True)\n",
    "revenue_by_product = revenue_by_product / 1e6\n",
    "\n",
    "plt.figure(figsize=(8, 5))\n",
    "plt.barh(revenue_by_product.index, revenue_by_product.values, color='#3A86FF')\n",
    "plt.title('Top 10 Product with Highest Revenue')\n",
    "plt.xlabel('Total Revenue (in Millions USD)')\n",
    "plt.ylabel('')\n",
    "\n",
    "ax = plt.gca()\n",
    "for side in ['top', 'right']:\n",
    "    ax.spines[side].set_visible(False)\n",
    "ax.spines['left'].set_color('gray')\n",
    "ax.spines['bottom'].set_color('gray')\n",
    "ax.spines['left'].set_linewidth(0.8)\n",
    "ax.spines['bottom'].set_linewidth(0.8)\n",
    "\n",
    "plt.grid(False)\n",
    "plt.tight_layout()\n",
    "plt.show()\n"
   ]
  },
  {
   "cell_type": "markdown",
   "id": "23b18729",
   "metadata": {
    "papermill": {
     "duration": 0.070241,
     "end_time": "2025-08-01T04:37:36.048102",
     "exception": false,
     "start_time": "2025-08-01T04:37:35.977861",
     "status": "completed"
    },
    "tags": []
   },
   "source": [
    "**Top 10 Products with Highest Revenue**\n",
    "\n",
    "Product P00025442 has the highest revenue with USD 26.7 million, followed by P00110742 (USD 26.7 million), and P00255842 (USD 25.1 million).\n",
    "\n",
    "**Interpretation:**\n",
    "\n",
    "Product P00025442 gives the highest revenue for the e-commerce platform. There’s no single dominating product the revenue gaps between products are small, meaning demand is evenly spread across multiple products.\n"
   ]
  },
  {
   "cell_type": "code",
   "execution_count": 16,
   "id": "0cf49af7",
   "metadata": {
    "execution": {
     "iopub.execute_input": "2025-08-01T04:37:36.071073Z",
     "iopub.status.busy": "2025-08-01T04:37:36.070681Z",
     "iopub.status.idle": "2025-08-01T04:37:36.088582Z",
     "shell.execute_reply": "2025-08-01T04:37:36.087510Z"
    },
    "executionInfo": {
     "elapsed": 40,
     "status": "ok",
     "timestamp": 1753660795298,
     "user": {
      "displayName": "Ahsan Mubarak",
      "userId": "13952536471194166156"
     },
     "user_tz": -420
    },
    "id": "ABmhDcdnUsp3",
    "outputId": "d558281a-1733-45c1-ddfa-49b4a033ea31",
    "papermill": {
     "duration": 0.031516,
     "end_time": "2025-08-01T04:37:36.090384",
     "exception": false,
     "start_time": "2025-08-01T04:37:36.058868",
     "status": "completed"
    },
    "tags": []
   },
   "outputs": [
    {
     "data": {
      "text/plain": [
       "Product_Category\n",
       "1     1910013754\n",
       "5      941835229\n",
       "8      854318799\n",
       "6      324150302\n",
       "2      268516186\n",
       "3      204084713\n",
       "16     145120612\n",
       "11     113791115\n",
       "10     100837301\n",
       "15      92969042\n",
       "Name: Purchase, dtype: int64"
      ]
     },
     "execution_count": 16,
     "metadata": {},
     "output_type": "execute_result"
    }
   ],
   "source": [
    "df.groupby('Product_Category')['Purchase'].sum().nlargest(10)"
   ]
  },
  {
   "cell_type": "code",
   "execution_count": 17,
   "id": "8f1ae9a3",
   "metadata": {
    "execution": {
     "iopub.execute_input": "2025-08-01T04:37:36.113168Z",
     "iopub.status.busy": "2025-08-01T04:37:36.112864Z",
     "iopub.status.idle": "2025-08-01T04:37:41.911527Z",
     "shell.execute_reply": "2025-08-01T04:37:41.910021Z"
    },
    "executionInfo": {
     "elapsed": 6336,
     "status": "ok",
     "timestamp": 1753663097146,
     "user": {
      "displayName": "Ahsan Mubarak",
      "userId": "13952536471194166156"
     },
     "user_tz": -420
    },
    "id": "xISWauKPYde0",
    "outputId": "651ba9cd-f4dc-45bd-f13c-f9a8e433450c",
    "papermill": {
     "duration": 5.812011,
     "end_time": "2025-08-01T04:37:41.913253",
     "exception": false,
     "start_time": "2025-08-01T04:37:36.101242",
     "status": "completed"
    },
    "tags": []
   },
   "outputs": [
    {
     "name": "stdout",
     "output_type": "stream",
     "text": [
      "Requirement already satisfied: squarify in /usr/local/lib/python3.11/dist-packages (0.4.4)\r\n"
     ]
    },
    {
     "data": {
      "image/png": "[encoded data removed]",
      "text/plain": [
       "<Figure size 1000x600 with 1 Axes>"
      ]
     },
     "metadata": {},
     "output_type": "display_data"
    }
   ],
   "source": [
    "!pip install squarify\n",
    "\n",
    "import squarify\n",
    "\n",
    "sizes = df.groupby('Product_Category')['Purchase'].sum().nlargest(10).sort_values(ascending=True)\n",
    "\n",
    "labels = [f'Category {cat}\\n${val/1e6:.1f}M' for cat, val in zip(sizes.index, sizes.values)]\n",
    "\n",
    "colors = sns.color_palette(\"Blues\", n_colors=len(sizes))\n",
    "\n",
    "plt.figure(figsize=(10, 6))\n",
    "squarify.plot(\n",
    "    sizes=sizes.values,\n",
    "    label=labels,\n",
    "    color=colors,\n",
    "    alpha=0.9\n",
    ")\n",
    "plt.axis('off')\n",
    "plt.title('Revenue Distribution by Product Category', fontsize=14)\n",
    "plt.show()"
   ]
  },
  {
   "cell_type": "markdown",
   "id": "453e4be2",
   "metadata": {
    "papermill": {
     "duration": 0.011299,
     "end_time": "2025-08-01T04:37:41.937392",
     "exception": false,
     "start_time": "2025-08-01T04:37:41.926093",
     "status": "completed"
    },
    "tags": []
   },
   "source": [
    "**Revenue Distribution by Product Category**\n",
    "\n",
    "- Category 1: contributes 39% of total revenue  \n",
    "- Category 5: USD 941.8 million  \n",
    "- Category 8: USD 854.3 million\n",
    "\n",
    "\n",
    "**Interpretation:**\n",
    "\n",
    "These three categories contribute around 75% of total revenue. This shows that Walmart has a strong position in these categories."
   ]
  },
  {
   "cell_type": "code",
   "execution_count": 18,
   "id": "bd508c14",
   "metadata": {
    "execution": {
     "iopub.execute_input": "2025-08-01T04:37:41.965037Z",
     "iopub.status.busy": "2025-08-01T04:37:41.963488Z",
     "iopub.status.idle": "2025-08-01T04:37:42.033722Z",
     "shell.execute_reply": "2025-08-01T04:37:42.032709Z"
    },
    "executionInfo": {
     "elapsed": 37,
     "status": "ok",
     "timestamp": 1753661483781,
     "user": {
      "displayName": "Ahsan Mubarak",
      "userId": "13952536471194166156"
     },
     "user_tz": -420
    },
    "id": "gUpFUyLwXqSj",
    "outputId": "7599843c-8e0c-48e6-9453-c4de3d455015",
    "papermill": {
     "duration": 0.085683,
     "end_time": "2025-08-01T04:37:42.035363",
     "exception": false,
     "start_time": "2025-08-01T04:37:41.949680",
     "status": "completed"
    },
    "tags": []
   },
   "outputs": [
    {
     "data": {
      "text/plain": [
       "Product_ID\n",
       "P00086242    21256.505495\n",
       "P00085342    20980.268116\n",
       "P00200642    20468.773234\n",
       "P00116142    20463.791277\n",
       "P00119342    20448.756494\n",
       "Name: Purchase, dtype: float64"
      ]
     },
     "execution_count": 18,
     "metadata": {},
     "output_type": "execute_result"
    }
   ],
   "source": [
    "df.groupby('Product_ID')['Purchase'].mean().nlargest(5)"
   ]
  },
  {
   "cell_type": "code",
   "execution_count": 19,
   "id": "ab3f8436",
   "metadata": {
    "execution": {
     "iopub.execute_input": "2025-08-01T04:37:42.062108Z",
     "iopub.status.busy": "2025-08-01T04:37:42.061732Z",
     "iopub.status.idle": "2025-08-01T04:37:42.279559Z",
     "shell.execute_reply": "2025-08-01T04:37:42.278480Z"
    },
    "executionInfo": {
     "elapsed": 195,
     "status": "ok",
     "timestamp": 1753663253451,
     "user": {
      "displayName": "Ahsan Mubarak",
      "userId": "13952536471194166156"
     },
     "user_tz": -420
    },
    "id": "lWMxrGOUWjjN",
    "outputId": "17b4d134-4cbc-4c79-c311-3fa4dc018b36",
    "papermill": {
     "duration": 0.233704,
     "end_time": "2025-08-01T04:37:42.281600",
     "exception": false,
     "start_time": "2025-08-01T04:37:42.047896",
     "status": "completed"
    },
    "tags": []
   },
   "outputs": [
    {
     "data": {
      "image/png": "[encoded data removed]",
      "text/plain": [
       "<Figure size 800x500 with 1 Axes>"
      ]
     },
     "metadata": {},
     "output_type": "display_data"
    }
   ],
   "source": [
    "average_purchase_by_product_cateogry = df.groupby('Product_Category')['Purchase'].mean().nlargest(5).sort_values(ascending=True)\n",
    "\n",
    "average_purchase_by_product_cateogry.index = average_purchase_by_product_cateogry.index.astype(str)\n",
    "\n",
    "plt.figure(figsize=(8, 5))\n",
    "plt.bar(average_purchase_by_product_cateogry.index, average_purchase_by_product_cateogry.values, color='#3A86FF')\n",
    "plt.title('Top 5 Product Category with Highest Average Purchase')\n",
    "plt.xlabel('')\n",
    "plt.ylabel('Average Purchase (USD)')\n",
    "\n",
    "ax = plt.gca()\n",
    "for side in ['top', 'right']:\n",
    "    ax.spines[side].set_visible(False)\n",
    "ax.spines['left'].set_color('gray')\n",
    "ax.spines['bottom'].set_color('gray')\n",
    "ax.spines['left'].set_linewidth(0.8)\n",
    "ax.spines['bottom'].set_linewidth(0.8)\n",
    "\n",
    "plt.grid(False)\n",
    "plt.tight_layout()\n",
    "plt.show()\n"
   ]
  },
  {
   "cell_type": "code",
   "execution_count": 20,
   "id": "3d1b904a",
   "metadata": {
    "execution": {
     "iopub.execute_input": "2025-08-01T04:37:42.310272Z",
     "iopub.status.busy": "2025-08-01T04:37:42.309938Z",
     "iopub.status.idle": "2025-08-01T04:37:42.327625Z",
     "shell.execute_reply": "2025-08-01T04:37:42.326497Z"
    },
    "executionInfo": {
     "elapsed": 21,
     "status": "ok",
     "timestamp": 1753662149566,
     "user": {
      "displayName": "Ahsan Mubarak",
      "userId": "13952536471194166156"
     },
     "user_tz": -420
    },
    "id": "14H-ntOAZVHp",
    "outputId": "d210b099-5d79-4cd6-fc7c-0d6505009f80",
    "papermill": {
     "duration": 0.034212,
     "end_time": "2025-08-01T04:37:42.329314",
     "exception": false,
     "start_time": "2025-08-01T04:37:42.295102",
     "status": "completed"
    },
    "tags": []
   },
   "outputs": [
    {
     "data": {
      "text/plain": [
       "Product_Category\n",
       "5     150933\n",
       "1     140378\n",
       "8     113925\n",
       "11     24287\n",
       "2      23864\n",
       "Name: User_ID, dtype: int64"
      ]
     },
     "execution_count": 20,
     "metadata": {},
     "output_type": "execute_result"
    }
   ],
   "source": [
    "df.groupby('Product_Category')['User_ID'].count().nlargest(5)"
   ]
  },
  {
   "cell_type": "code",
   "execution_count": 21,
   "id": "db6ed3d1",
   "metadata": {
    "execution": {
     "iopub.execute_input": "2025-08-01T04:37:42.357015Z",
     "iopub.status.busy": "2025-08-01T04:37:42.356633Z",
     "iopub.status.idle": "2025-08-01T04:37:42.415499Z",
     "shell.execute_reply": "2025-08-01T04:37:42.414465Z"
    },
    "papermill": {
     "duration": 0.074729,
     "end_time": "2025-08-01T04:37:42.417243",
     "exception": false,
     "start_time": "2025-08-01T04:37:42.342514",
     "status": "completed"
    },
    "tags": []
   },
   "outputs": [
    {
     "data": {
      "text/plain": [
       "Product_ID\n",
       "P00265242    1880\n",
       "P00025442    1615\n",
       "P00110742    1612\n",
       "P00112142    1562\n",
       "P00057642    1470\n",
       "Name: User_ID, dtype: int64"
      ]
     },
     "execution_count": 21,
     "metadata": {},
     "output_type": "execute_result"
    }
   ],
   "source": [
    "df.groupby('Product_ID')['User_ID'].count().nlargest(5)"
   ]
  },
  {
   "cell_type": "code",
   "execution_count": 22,
   "id": "9a338783",
   "metadata": {
    "execution": {
     "iopub.execute_input": "2025-08-01T04:37:42.445167Z",
     "iopub.status.busy": "2025-08-01T04:37:42.444770Z",
     "iopub.status.idle": "2025-08-01T04:37:42.691346Z",
     "shell.execute_reply": "2025-08-01T04:37:42.689960Z"
    },
    "executionInfo": {
     "elapsed": 493,
     "status": "ok",
     "timestamp": 1753663276678,
     "user": {
      "displayName": "Ahsan Mubarak",
      "userId": "13952536471194166156"
     },
     "user_tz": -420
    },
    "id": "eeW5y8PkaJtT",
    "outputId": "ae2bd02d-25c4-43f2-8002-c15f0ad79842",
    "papermill": {
     "duration": 0.263042,
     "end_time": "2025-08-01T04:37:42.693406",
     "exception": false,
     "start_time": "2025-08-01T04:37:42.430364",
     "status": "completed"
    },
    "tags": []
   },
   "outputs": [
    {
     "data": {
      "image/png": "[encoded data removed]",
      "text/plain": [
       "<Figure size 800x500 with 1 Axes>"
      ]
     },
     "metadata": {},
     "output_type": "display_data"
    }
   ],
   "source": [
    "purchase_volume_by_product = df.groupby('Product_ID')['User_ID'].count().nlargest(5)\n",
    "\n",
    "plt.figure(figsize=(8, 5))\n",
    "plt.bar(purchase_volume_by_product.index, purchase_volume_by_product.values, color='#3A86FF')\n",
    "plt.title('Top 5 Product with Highest Purchase Volume')\n",
    "plt.xlabel('')\n",
    "plt.ylabel('Purchase Volume')\n",
    "\n",
    "ax = plt.gca()\n",
    "for side in ['top', 'right']:\n",
    "    ax.spines[side].set_visible(False)\n",
    "ax.spines['left'].set_color('gray')\n",
    "ax.spines['bottom'].set_color('gray')\n",
    "ax.spines['left'].set_linewidth(0.8)\n",
    "ax.spines['bottom'].set_linewidth(0.8)\n",
    "\n",
    "plt.grid(False)\n",
    "plt.tight_layout()\n",
    "plt.show()\n"
   ]
  },
  {
   "cell_type": "markdown",
   "id": "6594ab56",
   "metadata": {
    "papermill": {
     "duration": 0.012959,
     "end_time": "2025-08-01T04:37:42.720162",
     "exception": false,
     "start_time": "2025-08-01T04:37:42.707203",
     "status": "completed"
    },
    "tags": []
   },
   "source": [
    "**Top 5 Products by Purchase Volume**\n",
    "\n",
    "Product P00265242 recorded the highest purchase volume with 1,880 sales. Interestingly, it didn’t appear in the top 10 revenue products.  \n",
    "Meanwhile, P00025442 and P00110742, which ranked first and second in revenue, also had high volumes 1,615 and 1,612 sales, respectively, with only a small 3-unit gap.\n",
    "\n",
    "**Interpretation:**\n",
    "\n",
    "Based on this insight, P00265242 probably has a lower price, while P00110742 might have a higher price than P00025442, considering the similar volume but different revenue.\n",
    "\n"
   ]
  },
  {
   "cell_type": "code",
   "execution_count": 23,
   "id": "d37c2101",
   "metadata": {
    "execution": {
     "iopub.execute_input": "2025-08-01T04:37:42.748186Z",
     "iopub.status.busy": "2025-08-01T04:37:42.747850Z",
     "iopub.status.idle": "2025-08-01T04:37:43.080582Z",
     "shell.execute_reply": "2025-08-01T04:37:43.079322Z"
    },
    "executionInfo": {
     "elapsed": 350,
     "status": "ok",
     "timestamp": 1753662611893,
     "user": {
      "displayName": "Ahsan Mubarak",
      "userId": "13952536471194166156"
     },
     "user_tz": -420
    },
    "id": "3Ce2F2GMZ_wH",
    "outputId": "95e38641-342d-4b31-bf10-59bec20f7401",
    "papermill": {
     "duration": 0.34888,
     "end_time": "2025-08-01T04:37:43.082508",
     "exception": false,
     "start_time": "2025-08-01T04:37:42.733628",
     "status": "completed"
    },
    "tags": []
   },
   "outputs": [
    {
     "data": {
      "image/png": "[encoded data removed]",
      "text/plain": [
       "<Figure size 800x500 with 1 Axes>"
      ]
     },
     "metadata": {},
     "output_type": "display_data"
    }
   ],
   "source": [
    "volume_product = df.groupby('Product_ID')['User_ID'].count()\n",
    "revenue_product = df.groupby('Product_ID')['Purchase'].sum()\n",
    "revenue_product = revenue_product / 1e6\n",
    "\n",
    "plt.figure(figsize=(8, 5))\n",
    "plt.scatter(volume_product, revenue_product, color='#1f77b4', alpha=0.7)\n",
    "plt.title('Revenue vs Volume')\n",
    "plt.xlabel('Volume')\n",
    "plt.ylabel('Revenue')\n",
    "\n",
    "ax = plt.gca()\n",
    "for side in ['top', 'right']:\n",
    "    ax.spines[side].set_visible(False)\n",
    "ax.spines['left'].set_color('gray')\n",
    "ax.spines['bottom'].set_color('gray')\n",
    "ax.spines['left'].set_linewidth(0.8)\n",
    "ax.spines['bottom'].set_linewidth(0.8)\n",
    "\n",
    "plt.grid(False)\n",
    "plt.tight_layout()\n",
    "plt.show()"
   ]
  },
  {
   "cell_type": "markdown",
   "id": "86cfe282",
   "metadata": {
    "papermill": {
     "duration": 0.014979,
     "end_time": "2025-08-01T04:37:43.112690",
     "exception": false,
     "start_time": "2025-08-01T04:37:43.097711",
     "status": "completed"
    },
    "tags": []
   },
   "source": [
    "**Revenue vs Volume**\n",
    "\n",
    "There is a strong positive correlation between product volume and revenue.\n",
    "\n",
    "**Interpretation:**\n",
    "\n",
    "The higher the volume, the greater the revenue \n"
   ]
  },
  {
   "cell_type": "code",
   "execution_count": 24,
   "id": "7ac7ba79",
   "metadata": {
    "execution": {
     "iopub.execute_input": "2025-08-01T04:37:43.144787Z",
     "iopub.status.busy": "2025-08-01T04:37:43.144412Z",
     "iopub.status.idle": "2025-08-01T04:37:43.155379Z",
     "shell.execute_reply": "2025-08-01T04:37:43.154019Z"
    },
    "papermill": {
     "duration": 0.029117,
     "end_time": "2025-08-01T04:37:43.157401",
     "exception": false,
     "start_time": "2025-08-01T04:37:43.128284",
     "status": "completed"
    },
    "tags": []
   },
   "outputs": [
    {
     "data": {
      "text/plain": [
       "0.8964026626899254"
      ]
     },
     "execution_count": 24,
     "metadata": {},
     "output_type": "execute_result"
    }
   ],
   "source": [
    "volume_product.corr(revenue_product)"
   ]
  },
  {
   "cell_type": "markdown",
   "id": "60eaf07d",
   "metadata": {
    "papermill": {
     "duration": 0.014513,
     "end_time": "2025-08-01T04:37:43.188222",
     "exception": false,
     "start_time": "2025-08-01T04:37:43.173709",
     "status": "completed"
    },
    "tags": []
   },
   "source": [
    "**Interpretation**\n",
    "\n",
    "The greater the volume, the higher the revenue generated.  \n",
    "This supports the earlier insight: the 89% correlation between volume and revenue indicates a strong, stable linear relationship with only a few outliers or noise.\n",
    "\n"
   ]
  },
  {
   "cell_type": "markdown",
   "id": "0c451b31",
   "metadata": {
    "papermill": {
     "duration": 0.015025,
     "end_time": "2025-08-01T04:37:43.217807",
     "exception": false,
     "start_time": "2025-08-01T04:37:43.202782",
     "status": "completed"
    },
    "tags": []
   },
   "source": [
    "**Final Insight and Recommendation**\n",
    "\n",
    "Based on the insights above:\n",
    "- Revenue is relatively balanced across the top products  \n",
    "- Revenue is dominated by Category 1, 5, and 8, which together contribute 75% these may represent Walmart’s core categories  \n",
    "- Volume and revenue have a strong positive correlation\n",
    "\n",
    "**Recommendations:**\n",
    "\n",
    "1. Focus on boosting the top 3 categories  \n",
    "   Run product campaigns or promotions to increase their visibility and sales.\n",
    "\n",
    "2. Evaluate pricing strategy for high-volume but low-revenue products \n",
    "   For example, P00265242 may benefit from upselling or bundling to raise its revenue impact.\n",
    "\n",
    "3. Review price differences in similar-volume products  \n",
    "   Compare P00110742 and P00025442 to understand pricing impact on revenue.\n",
    "\n",
    "4. Add more visibility to products with growing volume  \n",
    "   If any product is trending in volume, support it with promotion to convert that into revenue.\n",
    "\n",
    "5. Monitor outliers over time  \n",
    "   Keep track of products with unusually high performance — they might become new best sellers or signal shifting demand."
   ]
  }
 ],
 "metadata": {
  "colab": {
   "authorship_tag": "ABX9TyPlhdmYfV4nNsRDSG1k8O9N",
   "provenance": []
  },
  "kaggle": {
   "accelerator": "none",
   "dataSources": [
    {
     "datasetId": 7974692,
     "sourceId": 12621903,
     "sourceType": "datasetVersion"
    }
   ],
   "dockerImageVersionId": 31089,
   "isGpuEnabled": false,
   "isInternetEnabled": true,
   "language": "python",
   "sourceType": "notebook"
  },
  "kernelspec": {
   "display_name": "Python 3",
   "language": "python",
   "name": "python3"
  },
  "language_info": {
   "codemirror_mode": {
    "name": "ipython",
    "version": 3
   },
   "file_extension": ".py",
   "mimetype": "text/x-python",
   "name": "python",
   "nbconvert_exporter": "python",
   "pygments_lexer": "ipython3",
   "version": "3.11.13"
  },
  "papermill": {
   "default_parameters": {},
   "duration": 21.806012,
   "end_time": "2025-08-01T04:37:43.952574",
   "environment_variables": {},
   "exception": null,
   "input_path": "__notebook__.ipynb",
   "output_path": "__notebook__.ipynb",
   "parameters": {},
   "start_time": "2025-08-01T04:37:22.146562",
   "version": "2.6.0"
  }
 },
 "nbformat": 4,
 "nbformat_minor": 5
}
